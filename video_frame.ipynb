{
 "cells": [
  {
   "cell_type": "markdown",
   "id": "b8416956",
   "metadata": {},
   "source": [
    "## Transformando video em Frame"
   ]
  },
  {
   "cell_type": "code",
   "execution_count": null,
   "id": "9e6b62db",
   "metadata": {},
   "outputs": [],
   "source": [
    "import cv2\n",
    "import os\n",
    "\n",
    "# Pasta de entrada onde estão os vídeos\n",
    "input_dir = r\"video\"\n",
    "\n",
    "# Pasta de saída onde vão ficar as pastas de frames\n",
    "output_dir = r\"frames\"\n",
    "\n",
    "# Cria pasta de saída se não existir\n",
    "os.makedirs(output_dir, exist_ok=True)\n",
    "\n",
    "# Percorre todos os vídeos da pasta\n",
    "for video_name in os.listdir(input_dir):\n",
    "    if video_name.lower().endswith((\".mp4\", \".avi\", \".mov\", \".mkv\")):\n",
    "        video_path = os.path.join(input_dir, video_name)\n",
    "\n",
    "        # Nome da pasta de saída (sem extensão)\n",
    "        folder_name = os.path.splitext(video_name)[0]\n",
    "        save_path = os.path.join(output_dir, folder_name)\n",
    "\n",
    "        os.makedirs(save_path, exist_ok=True)\n",
    "\n",
    "        # Abrir vídeo\n",
    "        cap = cv2.VideoCapture(video_path)\n",
    "        frame_count = 0\n",
    "\n",
    "        while True:\n",
    "            ret, frame = cap.read()\n",
    "            if not ret:\n",
    "                break\n",
    "\n",
    "            # Nome do arquivo de frame\n",
    "            frame_filename = os.path.join(save_path, f\"frame_{frame_count:04d}.jpg\")\n",
    "\n",
    "            # Salvar frame\n",
    "            cv2.imwrite(frame_filename, frame)\n",
    "            frame_count += 1\n",
    "\n",
    "        cap.release()\n",
    "        print(f\"Extraído {frame_count} frames de {video_name} para {save_path}\")\n"
   ]
  }
 ],
 "metadata": {
  "language_info": {
   "name": "python"
  }
 },
 "nbformat": 4,
 "nbformat_minor": 5
}
